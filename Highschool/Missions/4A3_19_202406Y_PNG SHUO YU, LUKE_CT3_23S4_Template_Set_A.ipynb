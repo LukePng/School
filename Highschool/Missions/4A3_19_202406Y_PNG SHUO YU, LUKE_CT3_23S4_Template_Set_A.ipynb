{
 "cells": [
  {
   "cell_type": "markdown",
   "metadata": {},
   "source": [
    "# YEAR 2023 Class Test - Sec 4 Term 3 Set A\n",
    "\n",
    "**Duration**: 45 Mins\n",
    "\n",
    "**<font color='red'>\n",
    "Please save your work constantly!\n",
    "</font>**"
   ]
  },
  {
   "cell_type": "markdown",
   "metadata": {},
   "source": [
    "# Exam Instructions\n",
    "\n",
    "Answer all questions.\n",
    "\n",
    "All tasks must be done in the computer laboratory. You are not allowed to bring in or take out any pieces of work, materials, paper or electronic media or in any other form.\n",
    "\n",
    "All tasks are numbered.\n",
    "\n",
    "The number of marks is given in brackets \\[ \\]  at the end of the task, the total mark of this paper is **20**.\n",
    "\n",
    "If any cell is accidentally deleted in the jupyter notebook, you may refer to the html file to recover the content.\n",
    "\n",
    "You are allowed to add new cells to the notebook, but please make sure to write meaningful comments to explain the purpose.\n",
    "\n",
    "At the end of the examination, **SAVE** all the changes in the notebook, and save all your source files in the thumb drive and do NOT delete your source files."
   ]
  },
  {
   "cell_type": "code",
   "execution_count": 1,
   "metadata": {},
   "outputs": [
    {
     "name": "stdout",
     "output_type": "stream",
     "text": [
      "|   right|left      |   center   |\n"
     ]
    }
   ],
   "source": [
    "# string format example:\n",
    "# the following code will format:\n",
    "# - the string \"right\" to be right aligned in a 8 character wide space\n",
    "# - the string \"left\" to be left aligned in a 10 character wide space\n",
    "# - the string \"center\" to be center aligned in a 12 character wide space\n",
    "\n",
    "example = \"|{:>8}|{:<10}|{:^12}|\".format(\"right\", \"left\", \"center\")\n",
    "\n",
    "# execute the cell to see the result\n",
    "# you should see the following output:\n",
    "# |   right|left      |   center   |\n",
    "print(example)"
   ]
  },
  {
   "cell_type": "markdown",
   "metadata": {},
   "source": [
    "# Task 1.1\n",
    "\n",
    "Implement `validate_isbn()` function.\n",
    "\n",
    "<div style=\"text-align:right; font-weight:bold\">Marks: [5]</div>"
   ]
  },
  {
   "cell_type": "code",
   "execution_count": 2,
   "metadata": {},
   "outputs": [],
   "source": [
    "# Your code for Task 1.1 here\n",
    "def validate_isbn(isbn):\n",
    "    lst = []\n",
    "    for i in isbn:\n",
    "        if i == '-':\n",
    "            continue\n",
    "        lst.append(i)\n",
    "    total = 0\n",
    "    weight = [10, 9, 8, 7, 6, 5, 4, 3, 2]\n",
    "    for i in range(len(lst)-1):\n",
    "        total += int(lst[i])*weight[i]\n",
    "    r = total%11\n",
    "    if r == 0:\n",
    "        if lst[-1] == '0':\n",
    "            return True\n",
    "        return False\n",
    "    elif r == 1:\n",
    "        if lst[-1] == 'X':\n",
    "            return True\n",
    "        return False\n",
    "    else:\n",
    "        if lst[-1] == str(11-r):\n",
    "            return True\n",
    "        return False\n"
   ]
  },
  {
   "cell_type": "code",
   "execution_count": 3,
   "metadata": {},
   "outputs": [
    {
     "name": "stdout",
     "output_type": "stream",
     "text": [
      "True\n",
      "False\n",
      "True\n",
      "False\n"
     ]
    }
   ],
   "source": [
    "# test code for Task 1.1\n",
    "def test_check_isbn():\n",
    "    print(validate_isbn(\"1-6673-7897-X\"))  # True\n",
    "    print(validate_isbn(\"1-6673-7897-2\"))  # False\n",
    "    print(validate_isbn(\"0-3873-7235-0\"))  # True\n",
    "    print(validate_isbn(\"0-3873-7235-1\"))  # False\n",
    "\n",
    "test_check_isbn()"
   ]
  },
  {
   "cell_type": "markdown",
   "metadata": {},
   "source": [
    "# Task 1.2\n",
    "\n",
    "Implement class `Book` and `TYS` according to the UML class diagram and the attributes / methods specifications.\n",
    "\n",
    "<div style=\"text-align:right; font-weight:bold\">Marks: [9]</div>"
   ]
  },
  {
   "cell_type": "code",
   "execution_count": 4,
   "metadata": {},
   "outputs": [],
   "source": [
    "# Your code for Task 1.2 here\n",
    "class Book:\n",
    "    def __init__(self, title, author, isbn):\n",
    "        self._title = title\n",
    "        self._author = author\n",
    "        self._isbn = isbn\n",
    "    \n",
    "    def get_title(self):\n",
    "        return self._title\n",
    "    \n",
    "    def get_author(self):\n",
    "        return self._author\n",
    "    \n",
    "    def get_isbn(self):\n",
    "        return self._isbn\n",
    "    \n",
    "    def set_title(self, new_title):\n",
    "        self._title = new_title\n",
    "\n",
    "    def set_author(self, new_author):\n",
    "        self._author = new_author\n",
    "\n",
    "    def validate_isbn(self):\n",
    "        lst = []\n",
    "        for i in self._isbn:\n",
    "            if i == '-':\n",
    "                continue\n",
    "            lst.append(i)\n",
    "        total = 0\n",
    "        weight = [10, 9, 8, 7, 6, 5, 4, 3, 2]\n",
    "        for i in range(len(lst)-1):\n",
    "            total += int(lst[i])*weight[i]\n",
    "        r = total%11\n",
    "        if r == 0:\n",
    "            if lst[-1] == '0':\n",
    "                return True\n",
    "            return False\n",
    "        elif r == 1:\n",
    "            if lst[-1] == 'X':\n",
    "                return True\n",
    "            return False\n",
    "        else:\n",
    "            if lst[-1] == str(11-r):\n",
    "                return True\n",
    "            return False\n",
    "    \n",
    "    def __str__(self):\n",
    "        return \"|{:<25}|{:<20}|{:<20}|\".format(self.get_title(), self.get_author(), self.get_isbn())\n",
    "    \n",
    "class TYS(Book):\n",
    "    def __init__(self, title, author, isbn, subject):\n",
    "        super().__init__(title, author, isbn)\n",
    "        self._subject = subject\n",
    "\n",
    "    def get_subject(self):\n",
    "        return self._subject\n",
    "    \n",
    "    def set_subject(self, new_subject):\n",
    "        self._subject = new_subject\n",
    "\n",
    "    def __str__(self):\n",
    "        return \"|{:<25}|{:<20}|{:<20}|{:<15}|\".format(self.get_title(), self.get_author(), self.get_isbn(), self.get_subject())\n",
    "    \n"
   ]
  },
  {
   "cell_type": "markdown",
   "metadata": {},
   "source": [
    "# Task 1.3\n",
    "\n",
    "Create `Book` and `TYS` objects based on the given data, and print them out. For this task, you do **NOT** need to print the header and the horizontal line.\n",
    "\n",
    "<div style=\"text-align:right; font-weight:bold\">Marks: [2]</div>"
   ]
  },
  {
   "cell_type": "code",
   "execution_count": 5,
   "metadata": {},
   "outputs": [],
   "source": [
    "# Create the following Book objects:\n",
    "# |Title                    |Author              |ISBN                |\n",
    "# ---------------------------------------------------------------------\n",
    "# |Python for Dummies       |Stef Maruch         |1-6673-7897-X       |\n",
    "# |To Kill a Mockingbird    |Harper Lee          |0-3873-7235-0       |\n",
    "\n",
    "# Create the following TYS objects:\n",
    "# |Title                    |Author              |ISBN                |Subject        |\n",
    "# -------------------------------------------------------------------------------------\n",
    "# |TYS for Computing        |Tan Ah Teck         |2-3487-6909-3       |Computing      |\n",
    "# |TYS for Calculus         |James Stewart       |4-4752-8244-6       |Mathematics    |"
   ]
  },
  {
   "cell_type": "code",
   "execution_count": 6,
   "metadata": {},
   "outputs": [
    {
     "name": "stdout",
     "output_type": "stream",
     "text": [
      "|Python for Dummies       |Stef Maruch         |1-6673-7897-X       |\n",
      "|To Kill a Mockingbird    |Harper Lee          |0-3873-7235-0       |\n",
      "|TYS for Computing        |Tan Ah Teck         |2-3487-6909-3       |Computing      |\n",
      "|TYS for Calculus         |James Stewart       |4-4752-8244-6       |Mathematics    |\n"
     ]
    }
   ],
   "source": [
    "# Your code for Task 1.3 here\n",
    "# Create Book and TYS objects\n",
    "b1 = Book('Python for Dummies', 'Stef Maruch', '1-6673-7897-X')\n",
    "b2 = Book('To Kill a Mockingbird', 'Harper Lee', '0-3873-7235-0')\n",
    "t1 = TYS('TYS for Computing', 'Tan Ah Teck', '2-3487-6909-3', 'Computing')\n",
    "t2 = TYS('TYS for Calculus', 'James Stewart', '4-4752-8244-6', 'Mathematics')\n",
    "\n",
    "# Use print statement to print out the above objects created\n",
    "print(b1)\n",
    "print(b2)\n",
    "print(t1)\n",
    "print(t2)\n"
   ]
  },
  {
   "cell_type": "markdown",
   "metadata": {},
   "source": [
    "# Task 1.4\n",
    "\n",
    "Implement class `BookShelf` according to the UML class diagram and the attributes / methods specifications.\n",
    "\n",
    "<div style=\"text-align:right; font-weight:bold\">Marks: [2]</div>"
   ]
  },
  {
   "cell_type": "code",
   "execution_count": 7,
   "metadata": {},
   "outputs": [],
   "source": [
    "# Your code for Task 1.4 here\n",
    "class BookShelf:\n",
    "    def __init__(self, cat):\n",
    "        self._cat = cat\n",
    "        self._books = []\n",
    "    \n",
    "    def add_book(self, book):\n",
    "        self._books.append(book)\n",
    "    \n",
    "    def __str__(self):\n",
    "        final = \"|{:<25}|{:<20}|{:<20}|{:<15}|\\n\".format('Title', 'Author', 'ISBN', 'Details')\n",
    "        final += \"{:^85}\\n\".format('-'*85)\n",
    "        for i in self._books:\n",
    "            final += \"|{:<25}|{:<20}|{:<20}|{:<15}|\\n\".format(i.get_title(), i.get_author(), i.get_isbn(), i.get_subject())\n",
    "        final += \"{:^85}\".format('-'*85)\n",
    "        return final\n",
    "\n"
   ]
  },
  {
   "cell_type": "code",
   "execution_count": 8,
   "metadata": {},
   "outputs": [
    {
     "name": "stdout",
     "output_type": "stream",
     "text": [
      "|Title                    |Author              |ISBN                |Details        |\n",
      "-------------------------------------------------------------------------------------\n",
      "|TYS for Computing        |Tan Ah Teck         |2-3487-6909-3       |Computing      |\n",
      "|TYS for Calculus         |James Stewart       |4-4752-8244-6       |Mathematics    |\n",
      "|TYS for Physics          |Chia Suan Chong     |6-6639-3891-6       |Physics        |\n",
      "|TYS for Chemistry        |John Green          |5-8141-9694-7       |Chemistry      |\n",
      "|TYS for Biology          |Lim Ah Lian         |1-8387-0895-2       |Biology        |\n",
      "|TYS for Economics        |Chew Ah Meng        |8-0511-9141-2       |Economics      |\n",
      "-------------------------------------------------------------------------------------\n"
     ]
    }
   ],
   "source": [
    "# test code for Task 1.4\n",
    "def test_book_shelf():\n",
    "    bs = BookShelf(\"TYS\")\n",
    "    bs = BookShelf(\"TYS\")\n",
    "    book1 = TYS(\"TYS for Computing\", \"Tan Ah Teck\",\n",
    "                \"2-3487-6909-3\", \"Computing\")\n",
    "    book2 = TYS(\"TYS for Calculus\", \"James Stewart\",\n",
    "                \"4-4752-8244-6\", \"Mathematics\")\n",
    "    book3 = TYS(\"TYS for Physics\", \"Chia Suan Chong\",\n",
    "                \"6-6639-3891-6\", \"Physics\")\n",
    "    book4 = TYS(\"TYS for Chemistry\", \"John Green\",\n",
    "                \"5-8141-9694-7\", \"Chemistry\")\n",
    "    book5 = TYS(\"TYS for Biology\", \"Lim Ah Lian\", \"1-8387-0895-2\", \"Biology\")\n",
    "    book6 = TYS(\"TYS for Economics\", \"Chew Ah Meng\",\n",
    "                \"8-0511-9141-2\", \"Economics\")\n",
    "\n",
    "    books = [book1, book2, book3, book4, book5, book6]\n",
    "\n",
    "    for book in books:\n",
    "        bs.add_book(book)\n",
    "\n",
    "    print(bs)\n",
    "\n",
    "\n",
    "test_book_shelf()"
   ]
  },
  {
   "cell_type": "markdown",
   "metadata": {},
   "source": [
    "## Task 2 - Count Upper- and Lower-Case Letters (Recursion)\n",
    "\n",
    "### Description\n",
    "\n",
    "Implement a **recursive** function `count_case()` which takes in a string `s`, such as `\"I Love Computing!\"`, count the number of upper and lower case alphabets and return in a `list` format: `[3, 11]`.\n",
    "\n",
    "### ~ Evidence 2 ~\n",
    "\n",
    "- Program code of function `count_case()`.\n",
    "- You will also be assessed, but not limited to, based on the standard output of the following function calls.\n",
    "    - `count_case(\"I Love H2 Computing!\")`\n",
    "    - `count_case(\"Today is a beautiful day!\"))`\n",
    "\n",
    "<div style=\"text-align:right; font-weight:bold\">Marks: [2]</div>"
   ]
  },
  {
   "cell_type": "code",
   "execution_count": 9,
   "metadata": {},
   "outputs": [],
   "source": [
    "# Your code for Task 2\n",
    "def count_case(s):\n",
    "    nc, c = 0, 0\n",
    "    if len(s) == 1:\n",
    "        if s[0].isUpper():\n",
    "            return\n",
    "        else:\n",
    "            return\n",
    "        \n",
    "    if s[0].isUpper():\n",
    "        return\n",
    "#????? sorry ran out of time cannot think of recursive method :(\n",
    "#for loop method works :(\n",
    "# def count_case(s):\n",
    "#     lst = [0, 0]\n",
    "#     for i in s:\n",
    "#         if i.isalpha():\n",
    "#             if i.isupper():\n",
    "#                 lst[0] += 1\n",
    "#             else:\n",
    "#                 lst[1] += 1\n",
    "#     return lst"
   ]
  },
  {
   "cell_type": "code",
   "execution_count": 10,
   "metadata": {},
   "outputs": [
    {
     "ename": "AttributeError",
     "evalue": "'str' object has no attribute 'isUpper'",
     "output_type": "error",
     "traceback": [
      "\u001b[1;31m---------------------------------------------------------------------------\u001b[0m",
      "\u001b[1;31mAttributeError\u001b[0m                            Traceback (most recent call last)",
      "Cell \u001b[1;32mIn[10], line 2\u001b[0m\n\u001b[0;32m      1\u001b[0m \u001b[39m# Test cases for Task 2\u001b[39;00m\n\u001b[1;32m----> 2\u001b[0m \u001b[39mprint\u001b[39m(count_case(\u001b[39m\"\u001b[39;49m\u001b[39mI Love Computing!\u001b[39;49m\u001b[39m\"\u001b[39;49m))  \u001b[39m# [3, 11]\u001b[39;00m\n\u001b[0;32m      3\u001b[0m \u001b[39mprint\u001b[39m(count_case(\u001b[39m\"\u001b[39m\u001b[39mToday is a beautiful day!\u001b[39m\u001b[39m\"\u001b[39m))  \u001b[39m# [1, 19]\u001b[39;00m\n",
      "Cell \u001b[1;32mIn[9], line 10\u001b[0m, in \u001b[0;36mcount_case\u001b[1;34m(s)\u001b[0m\n\u001b[0;32m      7\u001b[0m     \u001b[39melse\u001b[39;00m:\n\u001b[0;32m      8\u001b[0m         \u001b[39mreturn\u001b[39;00m\n\u001b[1;32m---> 10\u001b[0m \u001b[39mif\u001b[39;00m s[\u001b[39m0\u001b[39;49m]\u001b[39m.\u001b[39;49misUpper():\n\u001b[0;32m     11\u001b[0m     \u001b[39mreturn\u001b[39;00m\n",
      "\u001b[1;31mAttributeError\u001b[0m: 'str' object has no attribute 'isUpper'"
     ]
    }
   ],
   "source": [
    "# Test cases for Task 2\n",
    "print(count_case(\"I Love Computing!\"))  # [3, 11]\n",
    "print(count_case(\"Today is a beautiful day!\"))  # [1, 19]"
   ]
  }
 ],
 "metadata": {
  "kernelspec": {
   "display_name": "Python 3 (ipykernel)",
   "language": "python",
   "name": "python3"
  },
  "language_info": {
   "codemirror_mode": {
    "name": "ipython",
    "version": 3
   },
   "file_extension": ".py",
   "mimetype": "text/x-python",
   "name": "python",
   "nbconvert_exporter": "python",
   "pygments_lexer": "ipython3",
   "version": "3.11.4"
  }
 },
 "nbformat": 4,
 "nbformat_minor": 2
}

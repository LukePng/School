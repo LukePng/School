{
 "cells": [
  {
   "cell_type": "markdown",
   "metadata": {},
   "source": [
    "### Binary Search Tree"
   ]
  },
  {
   "cell_type": "markdown",
   "metadata": {},
   "source": [
    "#### BST Node Class"
   ]
  },
  {
   "cell_type": "code",
   "execution_count": 1,
   "metadata": {},
   "outputs": [],
   "source": [
    "class TreeNode:\n",
    "    def __init__(self, data, left = None, right = None) -> None:\n",
    "        self.data = data\n",
    "        self.left = left # left child\n",
    "        self.right = right # right child\n",
    "    \n",
    "    # we will not use setters/getters for data/left/right as they are messy\n",
    "\n",
    "    # binary search is an efficient algorithm for finding a target value in a sorted list by repeatedly dividing the search interval in half. Starting with the middle element, it compares the target to this element, and if they are not equal, it narrows the search to the left or right half of the list based on whether the target is smaller or larger. This process continues until the target is found or the search range is empty,\n",
    "\n",
    "    # left child is smaller than right child in a BST"
   ]
  },
  {
   "cell_type": "code",
   "execution_count": 2,
   "metadata": {},
   "outputs": [],
   "source": [
    "class BSTree:\n",
    "    def __init__(self, root = None) -> None:\n",
    "        self.root = root\n",
    "\n",
    "    def insert(self, root, item): # RECURSIVE insert\n",
    "        if root is None: # inserting into empty tree\n",
    "            self.root = TreeNode(item)\n",
    "\n",
    "        elif item < root.data: # new item < root of SUBTREE\n",
    "\n",
    "            if root.left: # if root.left has a SUBTREE\n",
    "                self.insert(root.left, item) # traverse to the left\n",
    "                # recursive stage, only can continue after recusion is done\n",
    "            \n",
    "            else: # space to insert on left\n",
    "                root.left = TreeNode(item)\n",
    "        \n",
    "        else: # new item > root of SUBTREE\n",
    "\n",
    "            if root.right: # if root.right has a SUBTREE\n",
    "                self.insert(root.right, item) # traverse to the right\n",
    "            \n",
    "            else: # space to insert on the right\n",
    "                root.right = TreeNode(item)\n",
    "\n",
    "        return # returns None\n",
    "\n",
    "    def inorder_rec(self, root): # in numerical order\n",
    "        if root:\n",
    "            self.inorder_rec(root.left)\n",
    "            print(root.data)\n",
    "            self.inorder_rec(root.right)\n",
    " \n",
    "    def preorder_rec(self, root): \n",
    "        if root:\n",
    "            print(root.data)\n",
    "            self.preorder_rec(root.left)\n",
    "            self.preorder_rec(root.right)\n",
    "\n",
    "    def postorder_rec(self, root):\n",
    "        if root:\n",
    "            self.postorder_rec(root.left)\n",
    "            self.postorder_rec(root.right)\n",
    "            print(root.data)\n",
    "\n",
    "    def inorder_itr(self, root):\n",
    "        lst = []\n",
    "        for \n",
    "\n",
    "    def search(self, root, target):\n",
    "        if not root:\n",
    "            return False\n",
    "        \n",
    "        elif root.data == target:\n",
    "            return True\n",
    "        \n",
    "        elif target < root.data:\n",
    "            return self.search(root.left, target)\n",
    "\n",
    "        else:\n",
    "            return self.search(root.right, target)\n",
    "        \n"
   ]
  },
  {
   "cell_type": "code",
   "execution_count": 3,
   "metadata": {},
   "outputs": [
    {
     "name": "stdout",
     "output_type": "stream",
     "text": [
      "False\n",
      "4\n",
      "5\n",
      "10\n",
      "12\n",
      "15\n",
      "16\n",
      "17\n",
      "20\n",
      "\n",
      "12\n",
      "5\n",
      "4\n",
      "10\n",
      "17\n",
      "15\n",
      "16\n",
      "20\n",
      "\n",
      "4\n",
      "10\n",
      "5\n",
      "16\n",
      "15\n",
      "20\n",
      "17\n",
      "12\n"
     ]
    }
   ],
   "source": [
    "apple_tree = BSTree()\n",
    "apple_tree.insert(apple_tree.root, 12)\n",
    "apple_tree.insert(apple_tree.root, 5)\n",
    "apple_tree.insert(apple_tree.root, 17)\n",
    "apple_tree.insert(apple_tree.root, 4)\n",
    "apple_tree.insert(apple_tree.root, 10)\n",
    "apple_tree.insert(apple_tree.root, 15)\n",
    "apple_tree.insert(apple_tree.root, 16)\n",
    "apple_tree.insert(apple_tree.root, 20)\n",
    "\n",
    "print(apple_tree.search(apple_tree.root, 21))\n",
    "\n",
    "apple_tree.inorder(apple_tree.root)\n",
    "print()\n",
    "apple_tree.preorder(apple_tree.root)\n",
    "print()\n",
    "apple_tree.postorder(apple_tree.root)"
   ]
  },
  {
   "cell_type": "code",
   "execution_count": null,
   "metadata": {},
   "outputs": [],
   "source": []
  }
 ],
 "metadata": {
  "kernelspec": {
   "display_name": "Python 3",
   "language": "python",
   "name": "python3"
  },
  "language_info": {
   "codemirror_mode": {
    "name": "ipython",
    "version": 3
   },
   "file_extension": ".py",
   "mimetype": "text/x-python",
   "name": "python",
   "nbconvert_exporter": "python",
   "pygments_lexer": "ipython3",
   "version": "3.7.7"
  }
 },
 "nbformat": 4,
 "nbformat_minor": 2
}

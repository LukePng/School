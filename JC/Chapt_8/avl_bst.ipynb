{
 "cells": [
  {
   "cell_type": "markdown",
   "metadata": {},
   "source": [
    "### AVL Tree\n",
    "**AVL Tree** is a type of **BST** which automatically balances the tree to ensure that all the branches are of **similar depth** \n",
    "\n",
    "#### Algorithm:\n",
    "Inital balance = 0\n",
    "\n",
    "For each depth on the right side, balance += 1\n",
    "\n",
    "For each depth on the left, balance -= 1\n",
    "\n",
    "Acceptable Range: -1, 0, 1\n",
    "\n",
    "If balance < -1, left branch has a higher depth than right branch, unbalanced\n",
    "\n",
    "If balance > 1, right branch has a higher depth than left branch, unbalanced"
   ]
  },
  {
   "cell_type": "code",
   "execution_count": 1,
   "metadata": {},
   "outputs": [],
   "source": [
    "class TreeNode:\n",
    "    def __init__(self, data, left = None, right = None):\n",
    "        self.data = data\n",
    "        self.left = left\n",
    "        self.right = right"
   ]
  },
  {
   "cell_type": "code",
   "execution_count": null,
   "metadata": {},
   "outputs": [],
   "source": [
    "class AVLTree:\n",
    "    def __init__(self, root = None):\n",
    "        self.root = root\n",
    "\n",
    "    def insert(self, val):\n",
    "        if self.root is None:\n",
    "            self.root = TreeNode(val)\n",
    "\n",
    "        else:\n",
    "            ptr = self.root\n",
    "            inserted = False\n",
    "            while not inserted:\n",
    "                if val < ptr.data:\n",
    "                    if ptr.left is None:\n",
    "                        ptr.left = TreeNode(val)\n",
    "                        self.balance()\n",
    "                        inserted = True\n",
    "                    ptr = ptr.left\n",
    "\n",
    "                else:\n",
    "                    if ptr.right is None:\n",
    "                        ptr.right = TreeNode(val)\n",
    "                        self.balance()\n",
    "                        inserted = True\n",
    "                    ptr = ptr.right\n",
    "        return\n",
    "\n",
    "\n",
    "    def delete(self, val):\n",
    "        pass\n",
    "\n",
    "\n",
    "    def balance(self):\n",
    "        pass\n",
    "\n",
    "    def inorder(self):\n",
    "        pass\n",
    "\n",
    "    def postorder(self):\n",
    "        if self.root:\n",
    "            self.postorder(self.root.left)\n",
    "            self.postorder(self.root.right)\n",
    "            print(self.root.data)\n",
    "\n",
    "    def preorder(self):\n",
    "        pass"
   ]
  }
 ],
 "metadata": {
  "kernelspec": {
   "display_name": "Python 3",
   "language": "python",
   "name": "python3"
  },
  "language_info": {
   "codemirror_mode": {
    "name": "ipython",
    "version": 3
   },
   "file_extension": ".py",
   "mimetype": "text/x-python",
   "name": "python",
   "nbconvert_exporter": "python",
   "pygments_lexer": "ipython3",
   "version": "3.7.7"
  }
 },
 "nbformat": 4,
 "nbformat_minor": 2
}

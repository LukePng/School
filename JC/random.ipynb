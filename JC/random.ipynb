{
 "cells": [
  {
   "cell_type": "code",
   "execution_count": 18,
   "metadata": {},
   "outputs": [],
   "source": [
    "def rom2int(rom):\n",
    "    num_dict = {'M':1000, 'CM': 900, 'D': 500, 'CD': 400, 'C': 100, 'XC': 90, 'L': 50, 'XL': 40, 'X': 10, 'IX': 9, 'V': 5, 'IV': 4, 'I': 1}\n",
    "    total = 0\n",
    "    for i in range(len(rom)):\n",
    "        if i == 0:\n",
    "            total += num_dict[rom[0]]\n",
    "        \n",
    "        else:\n",
    "            total += num_dict[rom[i]]\n",
    "            temp_str = rom[i-1] + rom[i]\n",
    "\n",
    "            if temp_str in num_dict:\n",
    "                total -= num_dict[rom[i-1]]\n",
    "                total -= num_dict[rom[i]]\n",
    "                total += num_dict[temp_str]\n",
    "\n",
    "    return total\n",
    "\n"
   ]
  },
  {
   "cell_type": "code",
   "execution_count": 19,
   "metadata": {},
   "outputs": [
    {
     "name": "stdout",
     "output_type": "stream",
     "text": [
      "3999\n",
      "1009\n",
      "1337\n"
     ]
    }
   ],
   "source": [
    "print(rom2int('MMMCMXCIX'))\n",
    "#3999\n",
    "print(rom2int('MIX'))\n",
    "#1009\n",
    "print(rom2int('MCCCXXXVII'))\n",
    "#1337"
   ]
  },
  {
   "cell_type": "code",
   "execution_count": null,
   "metadata": {},
   "outputs": [],
   "source": []
  }
 ],
 "metadata": {
  "kernelspec": {
   "display_name": "Python 3",
   "language": "python",
   "name": "python3"
  },
  "language_info": {
   "codemirror_mode": {
    "name": "ipython",
    "version": 3
   },
   "file_extension": ".py",
   "mimetype": "text/x-python",
   "name": "python",
   "nbconvert_exporter": "python",
   "pygments_lexer": "ipython3",
   "version": "3.7.7"
  }
 },
 "nbformat": 4,
 "nbformat_minor": 2
}

{
 "cells": [
  {
   "cell_type": "markdown",
   "metadata": {},
   "source": [
    "# Check Digit\n",
    "\n",
    "\"The Immigration & Checkpoints Authority (ICA) will introduce a new Foreign Identification Number (FIN) series with the prefix M from 1 January 2022. FINs are unique identification numbers issued by ICA and government agencies to foreigners who are working, studying, or residing in Singapore. Similar to the format of the F and G FIN series, the new M FIN series will start with the prefix M, followed by seven digits and a checksum letter (e.g. M1234567B).\"\n",
    "\n",
    "Source: https://www.ica.gov.sg/news-and-publications/newsroom/media-release/new-m-fin-series-to-be-introduced-from-1-january-2022\n",
    "\n",
    "You may use https://samliew.com/nric-generator to generate more numbers to test wit\n",
    "\n",
    "This works:\n",
    "https://userapps.support.sap.com/sap/support/knowledge/en/2572734#:~:text=If%20the%20first%20digit%20is,to%20obtain%20the%20check%20digit."
   ]
  },
  {
   "cell_type": "markdown",
   "metadata": {},
   "source": [
    "Weightage:\n",
    "| 2 | 7 | 6 | 5 | 4 | 3 | 2 |\n",
    "|---|---|---|---|---|---|---|\n",
    "\n",
    "If the first digit is S or T\n",
    "\n",
    "| Check Digit | 0 | 1 | 2 | 3 | 4 | 5 | 6 | 7 | 8 | 9 | 10 |\n",
    "|-------------|---|---|---|---|---|---|---|---|---|---|----|\n",
    "| Last Letter | A | B | C | D | E | F | G | H | I | Z | J  |\n",
    "\n",
    "If the first digit is G or F\n",
    "\n",
    "| Check Digit | 0 | 1 | 2 | 3 | 4 | 5 | 6 | 7 | 8 | 9 | 10 |\n",
    "|-------------|---|---|---|---|---|---|---|---|---|---|----|\n",
    "| Last Letter | K | L | M | N | P | Q | R | T | U | W | X  |\n",
    "\n",
    "If the first digit is M\n",
    "\n",
    "| Check Digit | 0 | 1 | 2 | 3 | 4 | 5 | 6 | 7 | 8 | 9 | 10 |\n",
    "|-------------|---|---|---|---|---|---|---|---|---|---|----|\n",
    "| Last Letter | K | L | J | N | P | Q | R | T | U | W | X  |\n"
   ]
  },
  {
   "cell_type": "markdown",
   "metadata": {},
   "source": [
    "Write a function which takes in the 7 digits in an NRIC starting with T (or FIN starting with G) and returns the correct corresponding `check digit`."
   ]
  },
  {
   "cell_type": "code",
   "execution_count": 9,
   "metadata": {},
   "outputs": [],
   "source": [
    "def nric_gen(nric_dig):\n",
    "    weights = [2, 7, 8, 5, 4, 3, 2]\n",
    "    starting_ST = \"ABCDEFGHIZJ\"\n",
    "    starting_GF = \"KLMNPQRTUWX\"\n",
    "    starting_M = \"KLJNPQRTUWX\"\n",
    "    \n",
    "    total = 0\n",
    "\n",
    "    for i in range(1, len(nric_dig[1:])):\n",
    "        total += weights[i] * int(nric_dig[i])\n",
    "\n",
    "    if nric_dig[0] == \"T\" or nric_dig[0] == \"G\":\n",
    "        total += 4\n",
    "\n",
    "    remain = total % 11\n",
    "\n",
    "    check_digit = 11 - (remain + 1)\n",
    "\n",
    "    if nric_dig[0] == \"T\" or nric_dig[0] == \"S\":\n",
    "        return starting_ST[check_digit]\n",
    "    \n",
    "    elif nric_dig[0] == \"F\" or nric_dig[0] == \"G\":\n",
    "        return starting_GF[check_digit]\n",
    "    \n",
    "    else:\n",
    "        return starting_M[check_digit]"
   ]
  },
  {
   "cell_type": "code",
   "execution_count": 10,
   "metadata": {},
   "outputs": [
    {
     "ename": "ValueError",
     "evalue": "invalid literal for int() with base 10: 'T'",
     "output_type": "error",
     "traceback": [
      "\u001b[1;31m---------------------------------------------------------------------------\u001b[0m",
      "\u001b[1;31mValueError\u001b[0m                                Traceback (most recent call last)",
      "\u001b[1;32m~\\AppData\\Local\\Temp\\ipykernel_14440\\3584933877.py\u001b[0m in \u001b[0;36m<module>\u001b[1;34m\u001b[0m\n\u001b[1;32m----> 1\u001b[1;33m \u001b[0mprint\u001b[0m\u001b[1;33m(\u001b[0m\u001b[0mnric_gen\u001b[0m\u001b[1;33m(\u001b[0m\u001b[1;34m\"T0703480\"\u001b[0m\u001b[1;33m)\u001b[0m\u001b[1;33m)\u001b[0m\u001b[1;33m\u001b[0m\u001b[1;33m\u001b[0m\u001b[0m\n\u001b[0m",
      "\u001b[1;32m~\\AppData\\Local\\Temp\\ipykernel_14440\\3920257760.py\u001b[0m in \u001b[0;36mnric_gen\u001b[1;34m(nric_dig)\u001b[0m\n\u001b[0;32m      8\u001b[0m \u001b[1;33m\u001b[0m\u001b[0m\n\u001b[0;32m      9\u001b[0m     \u001b[1;32mfor\u001b[0m \u001b[0mi\u001b[0m \u001b[1;32min\u001b[0m \u001b[0mrange\u001b[0m\u001b[1;33m(\u001b[0m\u001b[0mlen\u001b[0m\u001b[1;33m(\u001b[0m\u001b[0mnric_dig\u001b[0m\u001b[1;33m[\u001b[0m\u001b[1;36m1\u001b[0m\u001b[1;33m:\u001b[0m\u001b[1;33m]\u001b[0m\u001b[1;33m)\u001b[0m\u001b[1;33m)\u001b[0m\u001b[1;33m:\u001b[0m\u001b[1;33m\u001b[0m\u001b[1;33m\u001b[0m\u001b[0m\n\u001b[1;32m---> 10\u001b[1;33m         \u001b[0mtotal\u001b[0m \u001b[1;33m+=\u001b[0m \u001b[0mweights\u001b[0m\u001b[1;33m[\u001b[0m\u001b[0mi\u001b[0m\u001b[1;33m]\u001b[0m \u001b[1;33m*\u001b[0m \u001b[0mint\u001b[0m\u001b[1;33m(\u001b[0m\u001b[0mnric_dig\u001b[0m\u001b[1;33m[\u001b[0m\u001b[0mi\u001b[0m\u001b[1;33m]\u001b[0m\u001b[1;33m)\u001b[0m\u001b[1;33m\u001b[0m\u001b[1;33m\u001b[0m\u001b[0m\n\u001b[0m\u001b[0;32m     11\u001b[0m \u001b[1;33m\u001b[0m\u001b[0m\n\u001b[0;32m     12\u001b[0m     \u001b[1;32mif\u001b[0m \u001b[0mnric_dig\u001b[0m\u001b[1;33m[\u001b[0m\u001b[1;36m0\u001b[0m\u001b[1;33m]\u001b[0m \u001b[1;33m==\u001b[0m \u001b[1;34m\"T\"\u001b[0m \u001b[1;32mor\u001b[0m \u001b[0mnric_dig\u001b[0m\u001b[1;33m[\u001b[0m\u001b[1;36m0\u001b[0m\u001b[1;33m]\u001b[0m \u001b[1;33m==\u001b[0m \u001b[1;34m\"G\"\u001b[0m\u001b[1;33m:\u001b[0m\u001b[1;33m\u001b[0m\u001b[1;33m\u001b[0m\u001b[0m\n",
      "\u001b[1;31mValueError\u001b[0m: invalid literal for int() with base 10: 'T'"
     ]
    }
   ],
   "source": [
    "print(nric_gen(\"T0703480\"))"
   ]
  },
  {
   "cell_type": "code",
   "execution_count": null,
   "metadata": {},
   "outputs": [],
   "source": []
  }
 ],
 "metadata": {
  "kernelspec": {
   "display_name": "Python 3",
   "language": "python",
   "name": "python3"
  },
  "language_info": {
   "codemirror_mode": {
    "name": "ipython",
    "version": 3
   },
   "file_extension": ".py",
   "mimetype": "text/x-python",
   "name": "python",
   "nbconvert_exporter": "python",
   "pygments_lexer": "ipython3",
   "version": "3.7.7"
  }
 },
 "nbformat": 4,
 "nbformat_minor": 2
}

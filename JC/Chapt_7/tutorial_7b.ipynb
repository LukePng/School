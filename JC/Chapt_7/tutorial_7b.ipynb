{
 "cells": [
  {
   "cell_type": "code",
   "execution_count": null,
   "metadata": {},
   "outputs": [],
   "source": [
    "class Beverage:\n",
    "    def __init__(self, bev_name):\n",
    "        self._bev_name = bev_name\n",
    "        \n",
    "class Cola(Beverage):\n",
    "    def __init__(self):\n",
    "        super().__init__('cola')"
   ]
  },
  {
   "cell_type": "code",
   "execution_count": null,
   "metadata": {},
   "outputs": [],
   "source": [
    "class Plant:\n",
    "    def __init__(self, plant_type):\n",
    "        self._plant_type = plant_type\n",
    "    \n",
    "    def message(self):\n",
    "        print(\"I'm a plant\")\n",
    "\n",
    "class Tree(Plant):\n",
    "    def __init__(self):\n",
    "        super().__init__('tree')\n",
    "    \n",
    "    def message(self):\n",
    "        print(\"I'm a tree\")\n",
    "\n",
    "p = Plant('sapling')\n",
    "t = Tree()\n",
    "p.message()\n",
    "t.message()"
   ]
  },
  {
   "cell_type": "code",
   "execution_count": null,
   "metadata": {},
   "outputs": [],
   "source": [
    "class A:\n",
    "    def __init__(self, name):\n",
    "        self._name = name\n",
    "    \n",
    "    def __str__(self):\n",
    "        return f\"Name: {self._name}\"\n",
    "\n",
    "class B(A):\n",
    "    def __init__(self, name, age):\n",
    "        super().__init__(name)\n",
    "        self._age = age\n",
    "    \n",
    "    def __str__(self):\n",
    "        return super().__str__() + f\", Age: {self._age}\"\n",
    "\n",
    "# Example usage:\n",
    "obj_b = B(\"John\", 30)\n",
    "print(obj_b)"
   ]
  },
  {
   "cell_type": "code",
   "execution_count": null,
   "metadata": {},
   "outputs": [],
   "source": []
  }
 ],
 "metadata": {
  "language_info": {
   "name": "python"
  }
 },
 "nbformat": 4,
 "nbformat_minor": 2
}

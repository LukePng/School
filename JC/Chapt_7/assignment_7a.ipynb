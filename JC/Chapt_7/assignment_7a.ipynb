{
 "cells": [
  {
   "cell_type": "markdown",
   "metadata": {},
   "source": [
    "Q1. Write a class named Pet, which should have the following data attributes:\n",
    "\n",
    "•`_name` (for the name of a pet)\n",
    "\n",
    "•`_animal_type` (for the type of animal that a pet is. Example values are ‘Dog’,\n",
    "‘Cat’ and ‘Bird’)\n",
    "\n",
    "•`_age` (for the pet’s age)\n",
    "\n",
    "The Pet class should have an `__init__` method that creates these attributes. It\n",
    "should also have the following methods:\n",
    "\n",
    "•`set_name`: assigns a value to the _name field\n",
    "\n",
    "•`set_animal_type`: assigns a value to the _animal_type field\n",
    "\n",
    "•`set_age`: assigns a value to the _age field.\n",
    "\n",
    "•`get_name`: returns the value of the _name field\n",
    "\n",
    "•`get_type`: returns the value of the _animal_type field\n",
    "\n",
    "•`get_age`: returns the value of the _age field\n",
    "\n",
    "Once you have written the class, write a program that creates an object of the class and\n",
    "prompts the user to enter the name, type and age of his or her pet. This data should be\n",
    "stored as the object’s attributes. Use the object’s accessor methods to retrieve the pet’s\n",
    "name, type and age and display the data on the screen."
   ]
  },
  {
   "cell_type": "code",
   "execution_count": 1,
   "metadata": {},
   "outputs": [
    {
     "name": "stdout",
     "output_type": "stream",
     "text": [
      "Rex is a Dog and is 5 years old\n",
      "Rex\n",
      "Dog\n",
      "5\n"
     ]
    }
   ],
   "source": [
    "class Pet:\n",
    "    def __init__(self, animal_type, age, name):\n",
    "        self._name = name\n",
    "        self._age = age\n",
    "        self._animal_type = animal_type\n",
    "    \n",
    "    def set_name(self, new_name):\n",
    "        self._name = new_name\n",
    "\n",
    "    def set_abunak_type(self, new_type):\n",
    "        self._animal_type = new_type\n",
    "    \n",
    "    def set_age(self, new_age):\n",
    "        self._age = new_age\n",
    "\n",
    "    def get_name(self):\n",
    "        return self._name\n",
    "    \n",
    "    def get_type(self):\n",
    "        return self._animal_type\n",
    "\n",
    "    def get_age(self):\n",
    "        return self._age\n",
    "        \n",
    "    def __str__(self):\n",
    "        return f\"{self._name} is a {self._animal_type} and is {self._age} years old\"\n",
    "    \n",
    "Dog = Pet(\"Dog\", 5, \"Rex\")\n",
    "print(Dog)\n",
    "print(Dog.get_name())\n",
    "print(Dog.get_type())\n",
    "print(Dog.get_age())"
   ]
  },
  {
   "cell_type": "markdown",
   "metadata": {},
   "source": [
    "Q2a. Write a class named Car that has the following data attributes:\n",
    "\n",
    "•`_year_model` (for the car’s year model)\n",
    "\n",
    "•`_make` (for the make of the car)\n",
    "\n",
    "•`_speed` (for the car’s current speed)\n",
    "\n",
    "The Car class should have an `__init__` method that accepts the car’s year model\n",
    "and make as arguments. These values should be assigned to the object’s\n",
    "`_year_model` and `_make` data attributes. It should also assign 0 to the _speed\n",
    "data attribute.\n",
    "\n",
    "The class should also have the following methods:\n",
    "\n",
    "•`accelerate`: add 5 to the speed data attribute each time it is called.\n",
    "\n",
    "•`brake`: subtract 5 from the speed data attribute each time it is called.\n",
    "\n",
    "•`get_speed`: return the current speed."
   ]
  },
  {
   "cell_type": "code",
   "execution_count": null,
   "metadata": {},
   "outputs": [],
   "source": [
    "class Car:\n",
    "    def __init__(self, year_model:str, make:str, speed:int = 0) -> None:\n",
    "        self._year_model = year_model\n",
    "        self._make = make\n",
    "        self._speed = speed\n",
    "    \n",
    "    def accelerate(self):\n",
    "        self._speed += 5\n",
    "        \n",
    "    def brake(self):\n",
    "        self._speed -= 5\n",
    "    \n",
    "    def get_speed(self):\n",
    "        return self._speed\n",
    "\n"
   ]
  },
  {
   "cell_type": "markdown",
   "metadata": {},
   "source": [
    "\n",
    "Q2b. Next, design a program that creates a `Car` object, and then calls the `accelerate`\n",
    "method five times. \n",
    "After each call to the `accelerate` method, get the `current speed`\n",
    "of the car and display it. Then call the `brake` method five times. After each call to the\n",
    "`brake` method, get the `current speed` of the car and display it."
   ]
  },
  {
   "cell_type": "code",
   "execution_count": null,
   "metadata": {},
   "outputs": [],
   "source": [
    "my_car = Car(2022, \"Toyota\")\n",
    "\n",
    "# Accelerate the car five times\n",
    "print(\"Accelerating:\")\n",
    "for _ in range(5):\n",
    "    my_car.accelerate()\n",
    "    print(\"Current speed:\", my_car.get_speed())\n",
    "\n",
    "# Brake the car five times\n",
    "print(\"\\nBraking:\")\n",
    "for _ in range(5):\n",
    "    my_car.brake()\n",
    "    print(\"Current speed:\", my_car.get_speed())\n",
    "        "
   ]
  }
 ],
 "metadata": {
  "kernelspec": {
   "display_name": "Python 3",
   "language": "python",
   "name": "python3"
  },
  "language_info": {
   "codemirror_mode": {
    "name": "ipython",
    "version": 3
   },
   "file_extension": ".py",
   "mimetype": "text/x-python",
   "name": "python",
   "nbconvert_exporter": "python",
   "pygments_lexer": "ipython3",
   "version": "3.7.7"
  }
 },
 "nbformat": 4,
 "nbformat_minor": 2
}

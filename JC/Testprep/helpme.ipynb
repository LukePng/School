{
 "cells": [
  {
   "cell_type": "markdown",
   "metadata": {},
   "source": [
    "<h1>Linked List</h1>\n",
    "Pseudocode for Linked List"
   ]
  },
  {
   "cell_type": "code",
   "execution_count": null,
   "metadata": {},
   "outputs": [],
   "source": [
    "class Node:\n",
    "    def __init__(self, data, next = None):\n",
    "        self.data = data\n",
    "        self.next = next\n",
    "\n",
    "    def set_data(self, data):\n",
    "        self.data = data\n",
    "\n",
    "    def set_next(self, next):\n",
    "        self.next = next\n",
    "\n",
    "    \n",
    "\n",
    "class LinkedList:\n",
    "    def __init__(self):\n",
    "        self.root = None\n",
    "\n",
    "    def insert(self, data, pos):\n",
    "        #add pseudocode\n",
    "        pass\n",
    "\n",
    "    def remove(self, target):\n",
    "        #add pseudocode\n",
    "        pass\n",
    "\n",
    "    def push(self, data):\n",
    "        #add pseudocode\n",
    "        pass\n",
    "\n",
    "    def display(self):\n",
    "        #add pseudocode\n",
    "        pass"
   ]
  },
  {
   "cell_type": "markdown",
   "metadata": {},
   "source": [
    "FUNCTION Push(self, data) RETURNS NULL\n",
    "    self.root <- Node(data, self.root)\n",
    "EndOfPush\n",
    "\n",
    "FUNCTION insert(self, data, pos) RETURNS NULL\n",
    "  DECLARE ctr: INTEGER\n",
    "  DECLARE ptr: Node\n",
    "  ptr <- self.root\n",
    "  ctr <- 0\n",
    "  WHILE (ptr.next <> NULL) DO\n",
    "    IF ctr = pos THEN\n",
    "      data.next <- ptr.next\n",
    "      ptr <- data\n",
    "      RETURN\n",
    "    ELSE\n",
    "      ctr <- ctr + 1\n",
    "      ptr <- ptr.next\n",
    "    ENDIF\n",
    "  ENDWHILE\n",
    "  OUTPUT \"The position you want to insert is out of range\"\n",
    "  \n",
    "\n",
    "EndOfInsert"
   ]
  }
 ],
 "metadata": {
  "language_info": {
   "name": "python"
  }
 },
 "nbformat": 4,
 "nbformat_minor": 2
}

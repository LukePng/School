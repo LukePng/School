{
 "cells": [
  {
   "cell_type": "code",
   "execution_count": 1,
   "metadata": {},
   "outputs": [],
   "source": [
    "class Tree:\n",
    "    def __init__(self, data, left=None, right=None):\n",
    "        self.data = data\n",
    "        self.left_pointer = left\n",
    "        self.right_pointer = right\n",
    "\n",
    "    def store(self, data):\n",
    "        if self.data == None:\n",
    "            self.data = data\n",
    "\n",
    "        elif self.data > data:\n",
    "            if self.left_pointer is None:\n",
    "                self.left_pointer = Tree(data)\n",
    "            \n",
    "            else:\n",
    "                self.left_pointer.store(data)\n",
    "\n",
    "        else:\n",
    "            if self.right_pointer is None:\n",
    "                self.right_pointer = Tree(data)\n",
    "\n",
    "            else:\n",
    "                self.right_pointer.store(data)\n",
    "\n",
    "\n",
    "    def inorder(self):\n",
    "        if self.left_pointer is not None:\n",
    "            self.left_pointer.inorder()\n",
    "        print(self.data)\n",
    "\n",
    "        if self.right_pointer is not None:\n",
    "            self.right_pointer.inorder()\n",
    "\n",
    "    def postorder(self):\n",
    "        if self.left_pointer is not None:\n",
    "            self.left_pointer.postorder()\n",
    "\n",
    "        if self.right_pointer is not None:\n",
    "            self.right_pointer.postorder()\n",
    "            \n",
    "        print(self.data)"
   ]
  },
  {
   "cell_type": "code",
   "execution_count": 2,
   "metadata": {},
   "outputs": [],
   "source": [
    "from random import randint\n",
    "\n",
    "inserted_val = []\n",
    "root = randint(0, 999)\n",
    "\n",
    "test = Tree(root)\n",
    "inserted_val.append(root)\n",
    "\n",
    "for _ in range(10):\n",
    "    data = randint(0, 999)\n",
    "    while data in inserted_val:\n",
    "        data = randint(0, 999)\n",
    "\n",
    "    test.store(data)\n",
    "    inserted_val.append(data)"
   ]
  },
  {
   "cell_type": "code",
   "execution_count": 3,
   "metadata": {},
   "outputs": [
    {
     "name": "stdout",
     "output_type": "stream",
     "text": [
      "[618, 750, 485, 858, 964, 320, 634, 645, 741, 349, 563]\n"
     ]
    }
   ],
   "source": [
    "print(inserted_val)"
   ]
  },
  {
   "cell_type": "code",
   "execution_count": 4,
   "metadata": {},
   "outputs": [
    {
     "name": "stdout",
     "output_type": "stream",
     "text": [
      "320\n",
      "349\n",
      "485\n",
      "563\n",
      "618\n",
      "634\n",
      "645\n",
      "741\n",
      "750\n",
      "858\n",
      "964\n"
     ]
    }
   ],
   "source": [
    "test.inorder()"
   ]
  },
  {
   "cell_type": "code",
   "execution_count": 5,
   "metadata": {},
   "outputs": [
    {
     "name": "stdout",
     "output_type": "stream",
     "text": [
      "349\n",
      "320\n",
      "563\n",
      "485\n",
      "741\n",
      "645\n",
      "634\n",
      "964\n",
      "858\n",
      "750\n",
      "618\n"
     ]
    }
   ],
   "source": [
    "test.postorder()"
   ]
  },
  {
   "cell_type": "code",
   "execution_count": null,
   "metadata": {},
   "outputs": [],
   "source": []
  }
 ],
 "metadata": {
  "kernelspec": {
   "display_name": "Python 3",
   "language": "python",
   "name": "python3"
  },
  "language_info": {
   "codemirror_mode": {
    "name": "ipython",
    "version": 3
   },
   "file_extension": ".py",
   "mimetype": "text/x-python",
   "name": "python",
   "nbconvert_exporter": "python",
   "pygments_lexer": "ipython3",
   "version": "3.7.7"
  }
 },
 "nbformat": 4,
 "nbformat_minor": 2
}

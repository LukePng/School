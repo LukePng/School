{
 "cells": [
  {
   "cell_type": "markdown",
   "metadata": {},
   "source": [
    "### Task 1"
   ]
  },
  {
   "cell_type": "code",
   "execution_count": 2,
   "metadata": {},
   "outputs": [],
   "source": [
    "class TreeNode:\n",
    "    def __init__(self, data, left=None, right=None):\n",
    "        self.data = data\n",
    "        self.left = left\n",
    "        self.right = right\n",
    "        self.depth = 1"
   ]
  },
  {
   "cell_type": "code",
   "execution_count": 74,
   "metadata": {},
   "outputs": [],
   "source": [
    "class Tree:\n",
    "    def __init__(self):\n",
    "        self.root = None\n",
    "\n",
    "    def insert(self, val):\n",
    "        if not self.root:\n",
    "            self.root = TreeNode(val)\n",
    "        else:\n",
    "            ptr = self.root\n",
    "            inserted = False\n",
    "\n",
    "            while not inserted:\n",
    "                new_node = TreeNode(val)\n",
    "                new_node.depth += 1\n",
    "                if val > ptr.data:\n",
    "                    if ptr.right is None:\n",
    "                        ptr.right = new_node\n",
    "                        inserted = True\n",
    "                    \n",
    "                    else:\n",
    "                        ptr = ptr.right\n",
    "\n",
    "                else: \n",
    "                    if ptr.left is None:\n",
    "                        ptr.left = new_node\n",
    "                        inserted = True\n",
    "                    \n",
    "                    else:\n",
    "                        ptr = ptr.left\n",
    "    \n",
    "    def inorder(self, root):\n",
    "        if root:\n",
    "            self.postorder(root.left)\n",
    "            self.postorder(root.right)\n",
    "            print(root.data)\n",
    "\n",
    "    \n",
    "    # def inorder_lst(self, root, lst=None):\n",
    "    #     lst = lst or []\n",
    "        \n",
    "    #     if root.left:\n",
    "    #         lst.extend(self.inorder_lst(root.left))\n",
    "        \n",
    "    #     lst.append(root.data)\n",
    "    #     print(root.data)\n",
    "\n",
    "    #     if root.right:\n",
    "    #         lst.extend(self.inorder_lst(root.right))\n",
    "        \n",
    "    #     return lst\n",
    "\n",
    "    def in_list(self, root):\n",
    "        leftl = rightl= []\n",
    "        if root.left:\n",
    "            leftl = self.in_list(root.left)\n",
    "        if root.right:\n",
    "            rightl = self.in_list(root.right)\n",
    "        \n",
    "        return leftl + [root.data] + rightl\n",
    "        \n",
    "\n",
    "\n",
    "    def pre_list(self, root):\n",
    "        leftl = rightl = []\n",
    "        if root.left:\n",
    "            leftl = self.pre_list(root.left)\n",
    "        if root.right:\n",
    "            rightl = self.pre_list(root.right)\n",
    "        \n",
    "        return [root.data] + leftl + rightl\n",
    "    \n",
    "    def post_list(self, root):\n",
    "        leftl = rightl= []\n",
    "        if root.left:\n",
    "            leftl = self.in_list(root.left)\n",
    "        if root.right:\n",
    "            rightl = self.in_list(root.right)\n",
    "        \n",
    "        return leftl + rightl + [root.data]"
   ]
  },
  {
   "cell_type": "code",
   "execution_count": 75,
   "metadata": {},
   "outputs": [
    {
     "name": "stdout",
     "output_type": "stream",
     "text": [
      "[2, 3, 5, 6]\n",
      "[5, 3, 2, 6]\n",
      "[2, 3, 6, 5]\n"
     ]
    }
   ],
   "source": [
    "BST = Tree()\n",
    "BST.insert(5)\n",
    "BST.insert(3)\n",
    "BST.insert(2)\n",
    "BST.insert(6)\n",
    "\n",
    "print(BST.in_list(BST.root))\n",
    "print(BST.pre_list(BST.root))\n",
    "print(BST.post_list(BST.root))"
   ]
  },
  {
   "cell_type": "code",
   "execution_count": 3,
   "metadata": {},
   "outputs": [],
   "source": [
    "file = open(\"Task1_1.txt\", 'r')\n",
    "counter = 1\n",
    "\n",
    "for line in file:\n",
    "    BST = Tree()\n",
    "\n",
    "    for char in line:\n",
    "        BST.insert(char)\n",
    "\n",
    "    \n",
    "    \n",
    "\n",
    "\n",
    "\n",
    "file.close()"
   ]
  },
  {
   "cell_type": "code",
   "execution_count": 4,
   "metadata": {},
   "outputs": [
    {
     "data": {
      "text/plain": [
       "'ACA'"
      ]
     },
     "execution_count": 4,
     "metadata": {},
     "output_type": "execute_result"
    }
   ],
   "source": [
    "a = 'ACA'\n",
    "sorted(a)\n",
    "a"
   ]
  },
  {
   "cell_type": "markdown",
   "metadata": {},
   "source": [
    "### Task 3"
   ]
  },
  {
   "cell_type": "code",
   "execution_count": 1,
   "metadata": {},
   "outputs": [],
   "source": [
    "class Character:\n",
    "    def __init__(self, name, hp, mp, atk):\n",
    "        self.name = name\n",
    "        self.hp = hp\n",
    "        self.mp = mp\n",
    "        self.atk = atk\n",
    "    \n",
    "    def get_name(self):\n",
    "        return self.name\n",
    "    \n",
    "    def get_hp(self):\n",
    "        return self.hp\n",
    "    \n",
    "    def get_mp(self):\n",
    "        return self.mp\n",
    "    \n",
    "    def get_atk(self):\n",
    "        return self.atk\n",
    "    \n",
    "    def update_hp(self, hp_change):\n",
    "        self.hp += hp_change\n",
    "\n",
    "    def update_mp(self, mp_change):\n",
    "        self.mp += mp_change\n",
    "\n",
    "    def __str__(self):\n",
    "        return f\"name: {self.name}, hp: {self.hp}, mp:{self.mp}, atk: {self.atk}\"\n"
   ]
  },
  {
   "cell_type": "code",
   "execution_count": 2,
   "metadata": {},
   "outputs": [],
   "source": [
    "class Pokemon(Character):\n",
    "    def __init__(self, name, hp, mp, atk, p_type):\n",
    "        super().__init__(name, hp, mp, atk)\n",
    "        self.p_type = p_type\n",
    "\n",
    "    def get_type(self):\n",
    "        return self.p_type\n",
    "    \n",
    "    def __str__(self):\n",
    "        return f\"name: {self.name}, hp: {self.hp}, mp:{self.mp}, atk: {self.atk}, type: {self.p_type}\"\n"
   ]
  },
  {
   "cell_type": "code",
   "execution_count": 27,
   "metadata": {},
   "outputs": [],
   "source": [
    "class Player(Character):\n",
    "    def __init__(self, name, hp, mp, atk):\n",
    "        super().__init__(name, hp, mp, atk)\n",
    "        self.pokemons = []\n",
    "\n",
    "    def display_pokemon(self):\n",
    "        if self.pokemons:\n",
    "            print('Here are the pokemons in your team:')\n",
    "            for pkm in self.pokemons:\n",
    "                print(f\"name: {pkm.name}, hp: {pkm.hp}, mp:{pkm.mp}, atk: {pkm.atk}, type: {pkm.p_type}\")\n",
    "\n",
    "        else:\n",
    "            print('You have not caught any pokemons yet.')\n",
    "    \n",
    "    def catch_pokemon(self, new_pokemon):\n",
    "        if self.pokemons:\n",
    "            for idx in range(len(self.pokemons)):\n",
    "                if new_pokemon.p_type == self.pokemons[idx].p_type:\n",
    "                    print('You already have: ')\n",
    "                    print(self.pokemons[idx])\n",
    "                    print(\"Now you met:\")\n",
    "                    print(new_pokemon)\n",
    "                    choice = input(\"Would you like to replace the pokemon of the same type? [Y/N]\")\n",
    "                    if choice == \"Y\":\n",
    "                        print(f'You have released {self.pokemons[idx].name}, and caught {new_pokemon.name}')\n",
    "                        self.pokemons[idx] =   new_pokemon\n",
    "                        return\n",
    "\n",
    "                    else:\n",
    "                        print(f\"You choose not to catch {new_pokemon.name}\") \n",
    "                        return\n",
    "\n",
    "                else:\n",
    "                    self.pokemons.append(new_pokemon)\n",
    "                    print(f\"You have caught {new_pokemon.name}\")\n",
    "\n",
    "        else:\n",
    "            self.pokemons.append(new_pokemon)\n",
    "            print(f\"You have caught {new_pokemon.name}\")\n",
    "\n"
   ]
  },
  {
   "cell_type": "code",
   "execution_count": 28,
   "metadata": {},
   "outputs": [],
   "source": [
    "Ash = Player(\"Ash Ketchum\", 100, 200, 10)\n",
    "\n",
    "Charmander = Pokemon(\"Charmander\", 50, 60, 18, \"Fire\")\n",
    "Squirtle = Pokemon(\"Squirtle\", 55, 60, 15, \"Water\")\n",
    "Ponyta = Pokemon(\"Ponyata\", 60, 60, 18, \"Fire\")"
   ]
  },
  {
   "cell_type": "code",
   "execution_count": 29,
   "metadata": {},
   "outputs": [
    {
     "name": "stdout",
     "output_type": "stream",
     "text": [
      "name: Ash Ketchum, hp: 100, mp:200, atk: 10\n",
      "name: Charmander, hp: 50, mp:60, atk: 18, type: Fire\n",
      "name: Squirtle, hp: 55, mp:60, atk: 15, type: Water\n",
      "name: Ponyata, hp: 60, mp:60, atk: 18, type: Fire\n"
     ]
    }
   ],
   "source": [
    "print(Ash)\n",
    "print(Charmander)\n",
    "print(Squirtle)\n",
    "print(Ponyta)"
   ]
  },
  {
   "cell_type": "code",
   "execution_count": 30,
   "metadata": {},
   "outputs": [
    {
     "name": "stdout",
     "output_type": "stream",
     "text": [
      "You have caught Charmander\n",
      "You have caught Squirtle\n"
     ]
    }
   ],
   "source": [
    "Ash.catch_pokemon(Charmander)\n",
    "Ash.catch_pokemon(Squirtle)"
   ]
  },
  {
   "cell_type": "code",
   "execution_count": 33,
   "metadata": {},
   "outputs": [
    {
     "name": "stdout",
     "output_type": "stream",
     "text": [
      "You already have: \n",
      "name: Charmander, hp: 50, mp:60, atk: 18, type: Fire\n",
      "Now you met:\n",
      "name: Ponyata, hp: 60, mp:60, atk: 18, type: Fire\n",
      "You have released Charmander, and caught Ponyata\n"
     ]
    }
   ],
   "source": [
    "\n",
    "Ash.catch_pokemon(Ponyta)"
   ]
  },
  {
   "cell_type": "code",
   "execution_count": 34,
   "metadata": {},
   "outputs": [
    {
     "name": "stdout",
     "output_type": "stream",
     "text": [
      "Here are the pokemons in your team:\n",
      "name: Ponyata, hp: 60, mp:60, atk: 18, type: Fire\n",
      "name: Squirtle, hp: 55, mp:60, atk: 15, type: Water\n"
     ]
    }
   ],
   "source": [
    "Ash.display_pokemon()"
   ]
  },
  {
   "cell_type": "code",
   "execution_count": null,
   "metadata": {},
   "outputs": [],
   "source": []
  }
 ],
 "metadata": {
  "kernelspec": {
   "display_name": "Python 3",
   "language": "python",
   "name": "python3"
  },
  "language_info": {
   "codemirror_mode": {
    "name": "ipython",
    "version": 3
   },
   "file_extension": ".py",
   "mimetype": "text/x-python",
   "name": "python",
   "nbconvert_exporter": "python",
   "pygments_lexer": "ipython3",
   "version": "3.7.7"
  }
 },
 "nbformat": 4,
 "nbformat_minor": 2
}

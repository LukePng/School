{
 "cells": [
  {
   "cell_type": "markdown",
   "metadata": {},
   "source": [
    "### Question 9"
   ]
  },
  {
   "cell_type": "code",
   "execution_count": 1,
   "metadata": {},
   "outputs": [],
   "source": [
    "# a)\n",
    "Sequence = [1, 3, 5, 7, 9]"
   ]
  },
  {
   "cell_type": "code",
   "execution_count": 6,
   "metadata": {},
   "outputs": [],
   "source": [
    "def gen_product(seq):\n",
    "    product = []\n",
    "    for i in range(len(seq)):\n",
    "        temp_total = seq[i]\n",
    "        for j in range(i):\n",
    "            temp_total *= seq[j]\n",
    "        product.append(temp_total)\n",
    "    return product"
   ]
  },
  {
   "cell_type": "code",
   "execution_count": 7,
   "metadata": {},
   "outputs": [
    {
     "data": {
      "text/plain": [
       "[1, 3, 15, 105, 945]"
      ]
     },
     "execution_count": 7,
     "metadata": {},
     "output_type": "execute_result"
    }
   ],
   "source": [
    "Product = gen_product(Sequence)\n",
    "Product"
   ]
  },
  {
   "cell_type": "code",
   "execution_count": 13,
   "metadata": {},
   "outputs": [],
   "source": [
    "#b)\n",
    "def display_grid(grid):\n",
    "    for row in range(len(grid)):\n",
    "        for col in range(len(grid[row])):\n",
    "            print(grid[row][col], end=\" \")\n",
    "        print()"
   ]
  },
  {
   "cell_type": "code",
   "execution_count": 26,
   "metadata": {},
   "outputs": [],
   "source": [
    "def count_live(grid):\n",
    "    counted_grid = []\n",
    "\n",
    "    for row in range(len(grid)):\n",
    "        counted_row = []\n",
    "\n",
    "        if row == 0: #edge case for top row\n",
    "            for col in range(len(grid[row])):\n",
    "                curr_count = 0\n",
    "\n",
    "                if col == 0: #edge case for top left corner\n",
    "                    if grid[row][col+1] == 1:\n",
    "                        curr_count += 1\n",
    "\n",
    "                    if grid[row+1][col] == 1:\n",
    "                        curr_count += 1\n",
    "\n",
    "                    if grid[row+1][col+1] == 1:\n",
    "                        curr_count += 1\n",
    "\n",
    "                elif col == (len(grid[row])-1): #edge case for top right cornenr\n",
    "                    if grid[row][col-1] == 1:\n",
    "                        curr_count += 1\n",
    "\n",
    "                    if grid[row+1][col] == 1:\n",
    "                        curr_count += 1\n",
    "\n",
    "                    if grid[row+1][col-1] == 1:\n",
    "                        curr_count += 1\n",
    "\n",
    "                else: #other top rows\n",
    "                    if grid[row][col+1] == 1:\n",
    "                        curr_count += 1\n",
    "\n",
    "                    if grid[row+1][col] == 1:\n",
    "                        curr_count += 1\n",
    "\n",
    "                    if grid[row+1][col+1] == 1:\n",
    "                        curr_count += 1\n",
    "\n",
    "                    if grid[row][col-1] == 1:\n",
    "                        curr_count += 1\n",
    "\n",
    "                    if grid[row+1][col-1] == 1:\n",
    "                        curr_count += 1\n",
    "                                        \n",
    "            counted_row.append(curr_count)\n",
    "\n",
    "                \n",
    "\n",
    "\n",
    "        elif row == (len(grid) - 1): #edge case for bottom row\n",
    "            for col in range(len(grid[row])):\n",
    "                curr_count = 0\n",
    "                if col == 0: #edge case for bottom left corner\n",
    "                    if grid[row][col+1] == 1:\n",
    "                        curr_count += 1\n",
    "\n",
    "                    if grid[row-1][col] == 1:\n",
    "                        curr_count += 1\n",
    "\n",
    "                    if grid[row-1][col+1] == 1:\n",
    "                        curr_count += 1\n",
    "\n",
    "                elif col == (len(grid[row])-1): #edge case for bottom right cornenr\n",
    "                    if grid[row][col-1] == 1:\n",
    "                        curr_count += 1\n",
    "\n",
    "                    if grid[row-1][col] == 1:\n",
    "                        curr_count += 1\n",
    "\n",
    "                    if grid[row-1][col-1] == 1:\n",
    "                        curr_count += 1\n",
    "\n",
    "                else: #other top rows\n",
    "                    if grid[row][col+1] == 1:\n",
    "                        curr_count += 1\n",
    "\n",
    "                    if grid[row-1][col] == 1:\n",
    "                        curr_count += 1\n",
    "\n",
    "                    if grid[row-1][col+1] == 1:\n",
    "                        curr_count += 1\n",
    "\n",
    "                    if grid[row][col-1] == 1:\n",
    "                        curr_count += 1\n",
    "\n",
    "                    if grid[row-1][col-1] == 1:\n",
    "                        curr_count += 1\n",
    "\n",
    "            counted_row.append(curr_count)\n",
    "\n",
    "        else: #other cells\n",
    "            for col in range(len(grid[row])):\n",
    "                curr_count = 0\n",
    "                if col == 0: #edge case for sides corner\n",
    "                    if grid[row][col+1] == 1:\n",
    "                        curr_count += 1\n",
    "\n",
    "                    if grid[row-1][col] == 1:\n",
    "                        curr_count += 1\n",
    "\n",
    "                    if grid[row-1][col+1] == 1:\n",
    "                        curr_count += 1\n",
    "\n",
    "                    if grid[row+1][col] == 1:\n",
    "                        curr_count += 1\n",
    "\n",
    "                    if grid[row+1][col+1] == 1:\n",
    "                        curr_count += 1\n",
    "                    \n",
    "\n",
    "                elif col == (len(grid[row])-1): #edge case for bottom right cornenr\n",
    "                    if grid[row][col-1] == 1:\n",
    "                        curr_count += 1\n",
    "\n",
    "                    if grid[row-1][col] == 1:\n",
    "                        curr_count += 1\n",
    "\n",
    "                    if grid[row-1][col-1] == 1:\n",
    "                        curr_count += 1\n",
    "\n",
    "                    if grid[row+1][col] == 1:\n",
    "                        curr_count += 1\n",
    "\n",
    "                    if grid[row+1][col-1] == 1:\n",
    "                        curr_count += 1\n",
    "\n",
    "                else:\n",
    "                    if grid[row][col+1] == 1:\n",
    "                        curr_count += 1\n",
    "\n",
    "                    if grid[row-1][col+1] == 1:\n",
    "                        curr_count += 1\n",
    "\n",
    "                    if grid[row+1][col+1] == 1:\n",
    "                        curr_count += 1\n",
    "\n",
    "                    if grid[row][col-1] == 1:\n",
    "                        curr_count += 1\n",
    "\n",
    "                    if grid[row-1][col] == 1:\n",
    "                        curr_count += 1\n",
    "\n",
    "                    if grid[row-1][col-1] == 1:\n",
    "                        curr_count += 1\n",
    "\n",
    "                    if grid[row+1][col] == 1:\n",
    "                        curr_count += 1\n",
    "\n",
    "                    if grid[row+1][col-1] == 1:\n",
    "                        curr_count += 1\n",
    "\n",
    "            counted_row.append(curr_count)\n",
    "        \n",
    "        \n",
    "        counted_grid.append(counted_row)\n",
    "    return counted_grid"
   ]
  },
  {
   "cell_type": "code",
   "execution_count": 27,
   "metadata": {},
   "outputs": [],
   "source": [
    "def transition(grid, counted_grid):\n",
    "    for row in range(len(grid)):\n",
    "\n",
    "        for col in range(len(grid[row])):\n",
    "\n",
    "            if grid[row][col] == 1 and counted_grid[row][col] >=2:\n",
    "                continue\n",
    "\n",
    "            elif grid[row][col] == 0 and counted_grid[row][col] == 3:\n",
    "                grid[row][col] == 1\n",
    "            \n",
    "            else:\n",
    "                grid[row][col] == 0\n",
    "\n",
    "    return grid"
   ]
  },
  {
   "cell_type": "code",
   "execution_count": 28,
   "metadata": {},
   "outputs": [],
   "source": [
    "grid = [[0, 0, 1, 1, 1], [1, 1, 1, 0, 1], [0, 1, 0, 1, 0], [0, 1, 1, 1, 0], [1, 0, 0, 1, 1]]"
   ]
  },
  {
   "cell_type": "code",
   "execution_count": 29,
   "metadata": {},
   "outputs": [
    {
     "name": "stdout",
     "output_type": "stream",
     "text": [
      "0 0 1 1 1 \n",
      "1 1 1 0 1 \n",
      "0 1 0 1 0 \n",
      "0 1 1 1 0 \n",
      "1 0 0 1 1 \n"
     ]
    }
   ],
   "source": [
    "display_grid(grid)"
   ]
  },
  {
   "cell_type": "code",
   "execution_count": 30,
   "metadata": {},
   "outputs": [],
   "source": [
    "counted_grid = count_live(grid)"
   ]
  },
  {
   "cell_type": "code",
   "execution_count": 31,
   "metadata": {},
   "outputs": [
    {
     "name": "stdout",
     "output_type": "stream",
     "text": [
      "2 \n",
      "3 \n",
      "3 \n",
      "4 \n",
      "2 \n"
     ]
    }
   ],
   "source": [
    "display_grid(counted_grid)"
   ]
  },
  {
   "cell_type": "code",
   "execution_count": 32,
   "metadata": {},
   "outputs": [
    {
     "ename": "IndexError",
     "evalue": "list index out of range",
     "output_type": "error",
     "traceback": [
      "\u001b[1;31m---------------------------------------------------------------------------\u001b[0m",
      "\u001b[1;31mIndexError\u001b[0m                                Traceback (most recent call last)",
      "\u001b[1;32m~\\AppData\\Local\\Temp\\ipykernel_15376\\4222278433.py\u001b[0m in \u001b[0;36m<module>\u001b[1;34m\u001b[0m\n\u001b[1;32m----> 1\u001b[1;33m \u001b[0mtrans_grid\u001b[0m \u001b[1;33m=\u001b[0m \u001b[0mtransition\u001b[0m\u001b[1;33m(\u001b[0m\u001b[0mgrid\u001b[0m\u001b[1;33m,\u001b[0m \u001b[0mcounted_grid\u001b[0m\u001b[1;33m)\u001b[0m\u001b[1;33m\u001b[0m\u001b[1;33m\u001b[0m\u001b[0m\n\u001b[0m",
      "\u001b[1;32m~\\AppData\\Local\\Temp\\ipykernel_15376\\2358714626.py\u001b[0m in \u001b[0;36mtransition\u001b[1;34m(grid, counted_grid)\u001b[0m\n\u001b[0;32m      7\u001b[0m                 \u001b[1;32mcontinue\u001b[0m\u001b[1;33m\u001b[0m\u001b[1;33m\u001b[0m\u001b[0m\n\u001b[0;32m      8\u001b[0m \u001b[1;33m\u001b[0m\u001b[0m\n\u001b[1;32m----> 9\u001b[1;33m             \u001b[1;32melif\u001b[0m \u001b[0mgrid\u001b[0m\u001b[1;33m[\u001b[0m\u001b[0mrow\u001b[0m\u001b[1;33m]\u001b[0m\u001b[1;33m[\u001b[0m\u001b[0mcol\u001b[0m\u001b[1;33m]\u001b[0m \u001b[1;33m==\u001b[0m \u001b[1;36m0\u001b[0m \u001b[1;32mand\u001b[0m \u001b[0mcounted_grid\u001b[0m\u001b[1;33m[\u001b[0m\u001b[0mrow\u001b[0m\u001b[1;33m]\u001b[0m\u001b[1;33m[\u001b[0m\u001b[0mcol\u001b[0m\u001b[1;33m]\u001b[0m \u001b[1;33m==\u001b[0m \u001b[1;36m3\u001b[0m\u001b[1;33m:\u001b[0m\u001b[1;33m\u001b[0m\u001b[1;33m\u001b[0m\u001b[0m\n\u001b[0m\u001b[0;32m     10\u001b[0m                 \u001b[0mgrid\u001b[0m\u001b[1;33m[\u001b[0m\u001b[0mrow\u001b[0m\u001b[1;33m]\u001b[0m\u001b[1;33m[\u001b[0m\u001b[0mcol\u001b[0m\u001b[1;33m]\u001b[0m \u001b[1;33m==\u001b[0m \u001b[1;36m1\u001b[0m\u001b[1;33m\u001b[0m\u001b[1;33m\u001b[0m\u001b[0m\n\u001b[0;32m     11\u001b[0m \u001b[1;33m\u001b[0m\u001b[0m\n",
      "\u001b[1;31mIndexError\u001b[0m: list index out of range"
     ]
    }
   ],
   "source": [
    "trans_grid = transition(grid, counted_grid)"
   ]
  },
  {
   "cell_type": "code",
   "execution_count": null,
   "metadata": {},
   "outputs": [],
   "source": []
  }
 ],
 "metadata": {
  "kernelspec": {
   "display_name": "Python 3",
   "language": "python",
   "name": "python3"
  },
  "language_info": {
   "codemirror_mode": {
    "name": "ipython",
    "version": 3
   },
   "file_extension": ".py",
   "mimetype": "text/x-python",
   "name": "python",
   "nbconvert_exporter": "python",
   "pygments_lexer": "ipython3",
   "version": "3.7.7"
  }
 },
 "nbformat": 4,
 "nbformat_minor": 2
}

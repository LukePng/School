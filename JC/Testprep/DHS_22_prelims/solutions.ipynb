{
 "cells": [
  {
   "cell_type": "code",
   "execution_count": 7,
   "metadata": {},
   "outputs": [],
   "source": [
    "#Task 1.1\n",
    "import random\n",
    "\n",
    "def generate_heights(size):\n",
    "    output = []\n",
    "\n",
    "    for _ in range(size):\n",
    "        output.append(random.randint(150, 180))\n",
    "\n",
    "    return output\n"
   ]
  },
  {
   "cell_type": "code",
   "execution_count": 11,
   "metadata": {},
   "outputs": [
    {
     "data": {
      "text/plain": [
       "[164,\n",
       " 177,\n",
       " 166,\n",
       " 167,\n",
       " 175,\n",
       " 164,\n",
       " 162,\n",
       " 150,\n",
       " 159,\n",
       " 175,\n",
       " 170,\n",
       " 178,\n",
       " 158,\n",
       " 169,\n",
       " 157,\n",
       " 177,\n",
       " 179,\n",
       " 168,\n",
       " 167,\n",
       " 178]"
      ]
     },
     "execution_count": 11,
     "metadata": {},
     "output_type": "execute_result"
    }
   ],
   "source": [
    "generate_heights(20)"
   ]
  },
  {
   "cell_type": "code",
   "execution_count": null,
   "metadata": {},
   "outputs": [],
   "source": [
    "#Task 1.2\n",
    "\n",
    "def mergesort(input_list):\n",
    "    pass"
   ]
  },
  {
   "cell_type": "code",
   "execution_count": null,
   "metadata": {},
   "outputs": [],
   "source": []
  }
 ],
 "metadata": {
  "kernelspec": {
   "display_name": "Python 3",
   "language": "python",
   "name": "python3"
  },
  "language_info": {
   "codemirror_mode": {
    "name": "ipython",
    "version": 3
   },
   "file_extension": ".py",
   "mimetype": "text/x-python",
   "name": "python",
   "nbconvert_exporter": "python",
   "pygments_lexer": "ipython3",
   "version": "3.7.7"
  }
 },
 "nbformat": 4,
 "nbformat_minor": 2
}

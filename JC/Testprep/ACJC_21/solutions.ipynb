{
 "cells": [
  {
   "cell_type": "markdown",
   "metadata": {},
   "source": [
    "## Task 4.1"
   ]
  },
  {
   "cell_type": "markdown",
   "metadata": {},
   "source": [
    "```sql\n",
    "CREATE TABLE Kiosk (\n",
    "    KioskID INTEGER UNIQUE PRIMARY KEY AUTOINCREMENT,\n",
    "    Location TEXT,\n",
    "    Rating REAL\n",
    ");\n",
    "\n",
    "CREATE TABLE BentoBox (\n",
    "    BentoName TEXT UNIQUE PRIMARY KEY,\n",
    "    ProductionCost REAL,\n",
    "    ContainEgg INTEGER,\n",
    "    ContainNut INTEGER,\n",
    "    ContainSeafood INTEGER\n",
    ");\n",
    "\n",
    "CREATE TABLE KioskBento (\n",
    "    KioskID INTEGER REFERENCES Kiosk(KioskID),\n",
    "    BentoName TEXT REFERENCES BentoBox(BentoName),\n",
    "    SellPrice REAL\n",
    "    PRIMARY KEY(KioskID, BentoName)\n",
    ");\n",
    "```"
   ]
  },
  {
   "cell_type": "markdown",
   "metadata": {},
   "source": [
    "## Task 4.2"
   ]
  },
  {
   "cell_type": "code",
   "execution_count": null,
   "metadata": {
    "vscode": {
     "languageId": "plaintext"
    }
   },
   "outputs": [],
   "source": [
    "TBC"
   ]
  }
 ],
 "metadata": {
  "language_info": {
   "name": "python"
  }
 },
 "nbformat": 4,
 "nbformat_minor": 2
}

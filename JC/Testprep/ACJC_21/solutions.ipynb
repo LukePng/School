{
 "cells": [
  {
   "cell_type": "markdown",
   "metadata": {},
   "source": [
    "## Task 4.1"
   ]
  },
  {
   "cell_type": "code",
   "execution_count": 21,
   "metadata": {},
   "outputs": [],
   "source": [
    "#Using sqlite3:\n",
    "\n",
    "import sqlite3\n",
    "\n",
    "conn = sqlite3.connect('bento_company.db')"
   ]
  },
  {
   "cell_type": "markdown",
   "metadata": {},
   "source": [
    "### Table creation using Sqlite\n",
    "\n",
    "```python\n",
    "conn.execute(\n",
    "    '''\n",
    "    CREATE TABLE Kiosk (\n",
    "    KioskID INTEGER UNIQUE PRIMARY KEY AUTOINCREMENT,\n",
    "    Location TEXT,\n",
    "    Rating REAL\n",
    ");\n",
    "'''\n",
    ")\n",
    "\n",
    "conn.execute(\n",
    "    '''\n",
    "    CREATE TABLE BentoBox (\n",
    "    BentoName TEXT UNIQUE PRIMARY KEY,\n",
    "    ProductionCost REAL,\n",
    "    ContainEgg INTEGER,\n",
    "    ContainNut INTEGER,\n",
    "    ContainSeafood INTEGER\n",
    ");\n",
    "'''\n",
    ")\n",
    "\n",
    "conn.execute(\n",
    "    '''\n",
    "    CREATE TABLE KioskBento (\n",
    "    KioskID INTEGER REFERENCES Kiosk(KioskID),\n",
    "    BentoName TEXT REFERENCES BentoBox(BentoName),\n",
    "    SellPrice REAL,\n",
    "    PRIMARY KEY(KioskID, BentoName)\n",
    ");\n",
    "'''\n",
    ")\n",
    "```"
   ]
  },
  {
   "cell_type": "markdown",
   "metadata": {},
   "source": [
    "## Task 4.2"
   ]
  },
  {
   "cell_type": "code",
   "execution_count": 22,
   "metadata": {},
   "outputs": [
    {
     "name": "stdout",
     "output_type": "stream",
     "text": [
      "[1, 2, 3, 4]\n"
     ]
    }
   ],
   "source": [
    "f = open('KIOSK.txt', 'r')\n",
    "\n",
    "text = f.read()\n",
    "lines = text.split('\\n')\n",
    "\n",
    "kiosk_list = []\n",
    "for line in lines:\n",
    "    id, location, rating = line.split(',')\n",
    "    kiosk_list.append(int(id))\n",
    "\n",
    "    conn.execute(f'''INSERT INTO Kiosk (KioskID, Location, Rating) \n",
    "                 VALUES('{int(id)}', '{location}', '{float(rating)}')''') #run this SQL syntax\n",
    "\n",
    "\n",
    "print(kiosk_list)\n",
    "\n",
    "\n",
    "f.close()"
   ]
  },
  {
   "cell_type": "code",
   "execution_count": 23,
   "metadata": {},
   "outputs": [],
   "source": [
    "f = open('BENTOBOX.txt', 'r')\n",
    "\n",
    "text = f.read()\n",
    "lines = text.split('\\n')\n",
    "\n",
    "bento_list = []\n",
    "for line in lines:\n",
    "    name, cost, egg, nut, seafood = line.split(',')\n",
    "    bento_list.append([name, float(cost)])\n",
    "\n",
    "    conn.execute(f'''INSERT INTO BentoBox (BentoName, ProductionCost, ContainEgg, ContainNut, ContainSeafood) \n",
    "                 VALUES('{name}', '{float(cost)}', '{int(egg)}', '{int(nut)}', '{int(seafood)}')''') #run this SQL syntax\n",
    "\n",
    "f.close()"
   ]
  },
  {
   "cell_type": "code",
   "execution_count": 24,
   "metadata": {},
   "outputs": [],
   "source": [
    "mark_up = [2.60, 2.90, 2.40, 3.10]\n",
    "for i in range(4):\n",
    "    id = kiosk_list[i]\n",
    "    for bento in bento_list:\n",
    "        price = bento[1] + mark_up[i]\n",
    "        conn.execute(f'''INSERT INTO KioskBento (KioskID, BentoName, SellPrice)\n",
    "                     Values('{id}', '{bento[0]}', '{price}')''') #run this SQL syntax"
   ]
  },
  {
   "cell_type": "code",
   "execution_count": 25,
   "metadata": {},
   "outputs": [],
   "source": [
    "conn.commit()\n",
    "conn.close() #Closing connection"
   ]
  },
  {
   "cell_type": "code",
   "execution_count": null,
   "metadata": {},
   "outputs": [],
   "source": []
  },
  {
   "cell_type": "markdown",
   "metadata": {},
   "source": [
    "## Modified Task 4.3\n",
    "Write a SQL statement that returns the BentoName and Price of the Bento Sets that are available from Bedok and does not contain Seafood, but contains Nuts."
   ]
  },
  {
   "cell_type": "markdown",
   "metadata": {},
   "source": [
    "```sql\n",
    "SELECT KioskBento.BentoName, KioskBento.SellPrice\n",
    "FROM KioskBento\n",
    "INNER JOIN Kiosk\n",
    "ON Kiosk.KioskID = KioskBento.kioskID\n",
    "INNER JOIN BentoBox\n",
    "ON BentoBox.BentoName = KioskBento.BentoName\n",
    "WHERE Kiosk.Location = 'Bedok'\n",
    "AND BentoBox.ContainNut = 1\n",
    "AND BentoBox.ContainSeafood = 0\n",
    "```"
   ]
  },
  {
   "cell_type": "code",
   "execution_count": null,
   "metadata": {},
   "outputs": [],
   "source": []
  }
 ],
 "metadata": {
  "kernelspec": {
   "display_name": "Python 3",
   "language": "python",
   "name": "python3"
  },
  "language_info": {
   "codemirror_mode": {
    "name": "ipython",
    "version": 3
   },
   "file_extension": ".py",
   "mimetype": "text/x-python",
   "name": "python",
   "nbconvert_exporter": "python",
   "pygments_lexer": "ipython3",
   "version": "3.7.7"
  }
 },
 "nbformat": 4,
 "nbformat_minor": 2
}
